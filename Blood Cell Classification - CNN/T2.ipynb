{
 "cells": [
  {
   "cell_type": "markdown",
   "metadata": {},
   "source": [
    "# Assessment 1"
   ]
  },
  {
   "cell_type": "markdown",
   "metadata": {},
   "source": [
    "## Task 2: Image classification"
   ]
  },
  {
   "cell_type": "code",
   "execution_count": 1,
   "metadata": {},
   "outputs": [
    {
     "name": "stdout",
     "output_type": "stream",
     "text": [
      "2.6.0\n",
      "[LogicalDevice(name='/device:GPU:0', device_type='GPU')]\n",
      "1 Physical GPU, 1 Logical GPUs\n",
      "[name: \"/device:CPU:0\"\n",
      "device_type: \"CPU\"\n",
      "memory_limit: 268435456\n",
      "locality {\n",
      "}\n",
      "incarnation: 11885025967862399815\n",
      ", name: \"/device:GPU:0\"\n",
      "device_type: \"GPU\"\n",
      "memory_limit: 16034824192\n",
      "locality {\n",
      "  bus_id: 1\n",
      "  links {\n",
      "  }\n",
      "}\n",
      "incarnation: 15088301213470768400\n",
      "physical_device_desc: \"device: 0, name: NVIDIA GeForce RTX 2060, pci bus id: 0000:01:00.0, compute capability: 7.5\"\n",
      "]\n",
      "\n",
      "\n",
      "Num GPUs Available:  1\n"
     ]
    }
   ],
   "source": [
    "# TensorFlow config to GPU\n",
    "import tensorflow as tf\n",
    "print(tf.__version__)\n",
    "\n",
    "gpus = tf.config.list_physical_devices('GPU')\n",
    "if gpus: \n",
    "    tf.config.set_logical_device_configuration(\n",
    "        gpus[0],\n",
    "        [tf.config.LogicalDeviceConfiguration(memory_limit=15292)]\n",
    "    )\n",
    "\n",
    "logical_gpus = tf.config.list_logical_devices('GPU')\n",
    "print(logical_gpus)\n",
    "print(len(gpus), \"Physical GPU,\", len(logical_gpus), \"Logical GPUs\")\n",
    "\n",
    "\n",
    "from tensorflow.python.client import device_lib \n",
    "print(device_lib.list_local_devices())\n",
    "\n",
    "print()\n",
    "print()\n",
    "\n",
    "import tensorflow as tf\n",
    "print(\"Num GPUs Available: \", len(tf.config.list_physical_devices('GPU')))"
   ]
  },
  {
   "cell_type": "code",
   "execution_count": 2,
   "metadata": {},
   "outputs": [],
   "source": [
    "import pathlib\n",
    "import os\n",
    "import matplotlib.pyplot as plt\n",
    "import numpy as np\n",
    "\n",
    "# import sequential model\n",
    "from tensorflow.keras.models import Sequential\n",
    "from keras.layers import Dense, Dropout, Flatten, Conv2D, MaxPool2D, Rescaling\n",
    "from tensorflow.keras.regularizers import l2"
   ]
  },
  {
   "cell_type": "code",
   "execution_count": 3,
   "metadata": {},
   "outputs": [],
   "source": [
    "# function to plot the training/validation accuracies/losses.\n",
    "\n",
    "def plot_learning(history):\n",
    "    fig, axes = plt.subplots(nrows=1, ncols=2, figsize=(15,4))\n",
    "    axes[0].plot(history.history['loss'])   \n",
    "    axes[0].plot(history.history['val_loss'])\n",
    "    #axes[0].grid()\n",
    "    axes[0].legend(['loss','val_loss'])\n",
    "    axes[1].plot(history.history['accuracy'])   \n",
    "    axes[1].plot(history.history['val_accuracy'])\n",
    "    #axes[1].grid()\n",
    "    axes[1].legend(['accuracy','val_accuracy'])"
   ]
  },
  {
   "cell_type": "code",
   "execution_count": 4,
   "metadata": {},
   "outputs": [],
   "source": [
    "train_directory = pathlib.Path(\"blood_cell_data/TRAIN\")\n",
    "test_directory = pathlib.Path(\"blood_cell_data/TEST\")"
   ]
  },
  {
   "cell_type": "code",
   "execution_count": 5,
   "metadata": {},
   "outputs": [
    {
     "data": {
      "text/plain": [
       "['EOSINOPHIL', 'LYMPHOCYTE', 'MONOCYTE', 'NEUTROPHIL']"
      ]
     },
     "execution_count": 5,
     "metadata": {},
     "output_type": "execute_result"
    }
   ],
   "source": [
    "class_names = os.listdir(train_directory)\n",
    "class_names"
   ]
  },
  {
   "cell_type": "markdown",
   "metadata": {},
   "source": [
    "We have a dataset of blood cells. The dataset folder contains 2 subfolders, `TRAIN` and `TEST`. Each of those subfolder contains images of blood cells of 4 different classes: `EOSINOPHIL`, `LYMPHOCYTE`, `MONOCYTE`, `NEUTROPHIL`. The task is to build a classifier that can classify blood cells into one of the 4 classes using Convolutional Neural Networks."
   ]
  },
  {
   "cell_type": "code",
   "execution_count": 6,
   "metadata": {},
   "outputs": [
    {
     "name": "stdout",
     "output_type": "stream",
     "text": [
      "EOSINOPHIL 2497\n",
      "LYMPHOCYTE 2483\n",
      "MONOCYTE 2478\n",
      "NEUTROPHIL 2499\n",
      "Total number of Training images:  9957\n",
      "\n",
      "EOSINOPHIL 13\n",
      "LYMPHOCYTE 6\n",
      "MONOCYTE 4\n",
      "NEUTROPHIL 48\n",
      "Total number of Test images:  71\n"
     ]
    }
   ],
   "source": [
    "# Count the number of images in Train directory\n",
    "total = 0\n",
    "for item in os.listdir(train_directory):\n",
    "    print(item, len(list(train_directory.glob(item + '/*'))))\n",
    "    total += len(list(train_directory.glob(item + '/*')))\n",
    "\n",
    "print(\"Total number of Training images: \", total)\n",
    "\n",
    "print()\n",
    "\n",
    "# Count the number of images in Test directory\n",
    "total = 0\n",
    "for item in os.listdir(test_directory):\n",
    "    print(item, len(list(test_directory.glob(item + '/*'))))\n",
    "    total += len(list(test_directory.glob(item + '/*')))\n",
    "\n",
    "print(\"Total number of Test images: \", total)"
   ]
  },
  {
   "cell_type": "markdown",
   "metadata": {},
   "source": [
    "We have in total 9957 images in the training set and 71 images in the test set."
   ]
  },
  {
   "cell_type": "code",
   "execution_count": 7,
   "metadata": {},
   "outputs": [
    {
     "name": "stdout",
     "output_type": "stream",
     "text": [
      "blood_cell_data\\TRAIN\\EOSINOPHIL\\_0_1169.jpeg\n"
     ]
    },
    {
     "data": {
      "text/plain": [
       "(240, 320, 3)"
      ]
     },
     "execution_count": 7,
     "metadata": {},
     "output_type": "execute_result"
    }
   ],
   "source": [
    "all_images = list(train_directory.glob(\"EOSINOPHIL/*\"))\n",
    "print(all_images[0])\n",
    "img = plt.imread(all_images[0])\n",
    "img.shape"
   ]
  },
  {
   "cell_type": "markdown",
   "metadata": {},
   "source": [
    "Each image is 240x320 pixels in RGB."
   ]
  },
  {
   "cell_type": "markdown",
   "metadata": {},
   "source": [
    "CNN (Convolutional Neural Network) is a class of deep neural networks, most commonly applied to analyzing visual imagery. CNNs use a variation of multilayer perceptrons designed to require minimal preprocessing. They are also known as shift invariant or space invariant artificial neural networks (SIANN), based on their shared-weights architecture and translation invariance characteristics. They have applications in image and video recognition, recommender systems, image classification, medical image analysis, natural language processing, and financial time series.\n",
    "\n",
    "Since it is a deep neural network, it is very easy to overfit the data. To avoid overfitting, we will use data augmentation. Data augmentation is a technique to artificially increase the size of a training dataset by creating modified versions of images in the dataset. The modified images are created by a series of random transforms such as random horizontal flips, random vertical flips, random rotations, random translations, and more. This is a very useful technique to prevent overfitting. We will use the `ImageDataGenerator` class from Keras to perform data augmentation."
   ]
  },
  {
   "cell_type": "code",
   "execution_count": 8,
   "metadata": {},
   "outputs": [],
   "source": [
    "# Create generators\n",
    "train_generator = tf.keras.preprocessing.image.ImageDataGenerator(\n",
    "    preprocessing_function=tf.keras.applications.mobilenet_v2.preprocess_input,\n",
    "    validation_split=0.2\n",
    ")\n",
    "\n",
    "test_generator = tf.keras.preprocessing.image.ImageDataGenerator(\n",
    "    preprocessing_function=tf.keras.applications.mobilenet_v2.preprocess_input\n",
    ")"
   ]
  },
  {
   "cell_type": "code",
   "execution_count": 9,
   "metadata": {},
   "outputs": [
    {
     "name": "stdout",
     "output_type": "stream",
     "text": [
      "Found 7968 images belonging to 4 classes.\n",
      "Found 1989 images belonging to 4 classes.\n",
      "Found 71 images belonging to 4 classes.\n"
     ]
    }
   ],
   "source": [
    "# Flow image data\n",
    "train_images=train_generator.flow_from_directory(\n",
    "    directory=train_directory,\n",
    "    target_size=(224, 224),\n",
    "    color_mode='rgb',\n",
    "    class_mode='categorical',\n",
    "    batch_size=32,\n",
    "    shuffle=True,\n",
    "    seed=42,\n",
    "    subset='training'\n",
    ")\n",
    "\n",
    "val_images=train_generator.flow_from_directory(\n",
    "    directory=train_directory,\n",
    "    target_size=(224, 224),\n",
    "    color_mode='rgb',\n",
    "    class_mode='categorical',\n",
    "    batch_size=32,\n",
    "    shuffle=True,\n",
    "    seed=42,\n",
    "    subset='validation'\n",
    ")\n",
    "\n",
    "test_images=test_generator.flow_from_directory(\n",
    "    directory=test_directory,\n",
    "    target_size=(224, 224),\n",
    "    color_mode='rgb',\n",
    "    class_mode='categorical',\n",
    "    batch_size=32,\n",
    "    shuffle=False\n",
    ")"
   ]
  },
  {
   "cell_type": "code",
   "execution_count": 10,
   "metadata": {},
   "outputs": [],
   "source": [
    "# get the number of classes\n",
    "num_classes = len(class_names)\n",
    "\n",
    "model = Sequential([Rescaling(1./1., input_shape=(224, 224,3))])\n",
    "\n",
    "model.add(Conv2D(filters = 32, kernel_size = (3,3),padding = 'Same', \n",
    "                 activation ='relu', input_shape = (120, 160, 32)))\n",
    "model.add(MaxPool2D(pool_size=(2,2)))\n",
    "\n",
    "model.add(Conv2D(filters = 32, kernel_size = (3,3),padding = 'Same', activation ='relu'))\n",
    "model.add(MaxPool2D(pool_size=(2,2)))\n",
    "\n",
    "model.add(Conv2D(filters = 64, kernel_size = (3,3),padding = 'Same', activation ='relu'))\n",
    "model.add(MaxPool2D(pool_size=(2,2)))\n",
    "\n",
    "model.add(Conv2D(filters = 64, kernel_size = (3,3),padding = 'Same', activation ='relu'))\n",
    "model.add(MaxPool2D(pool_size=(2,2)))\n",
    "\n",
    "model.add(Conv2D(filters = 128, kernel_size = (3,3),padding = 'Same', activation ='relu'))\n",
    "model.add(MaxPool2D(pool_size=(2,2)))\n",
    "\n",
    "\n",
    "model.add(Flatten())\n",
    "model.add(Dense(256, activation='relu'))\n",
    "model.add(Dropout(0.25))\n",
    "model.add(Dense(256, activation='relu'))\n",
    "model.add(Dropout(0.20))\n",
    "model.add(Dense(128, activation='relu'))\n",
    "\n",
    "model.add(Dense(num_classes, activation = \"softmax\"))\n",
    "\n",
    "model.compile(\n",
    "    optimizer='adam',\n",
    "    loss='categorical_crossentropy',\n",
    "    metrics=['accuracy']\n",
    ")"
   ]
  },
  {
   "cell_type": "code",
   "execution_count": 11,
   "metadata": {},
   "outputs": [
    {
     "name": "stdout",
     "output_type": "stream",
     "text": [
      "Model: \"sequential\"\n",
      "_________________________________________________________________\n",
      "Layer (type)                 Output Shape              Param #   \n",
      "=================================================================\n",
      "rescaling (Rescaling)        (None, 224, 224, 3)       0         \n",
      "_________________________________________________________________\n",
      "conv2d (Conv2D)              (None, 224, 224, 32)      896       \n",
      "_________________________________________________________________\n",
      "max_pooling2d (MaxPooling2D) (None, 112, 112, 32)      0         \n",
      "_________________________________________________________________\n",
      "conv2d_1 (Conv2D)            (None, 112, 112, 32)      9248      \n",
      "_________________________________________________________________\n",
      "max_pooling2d_1 (MaxPooling2 (None, 56, 56, 32)        0         \n",
      "_________________________________________________________________\n",
      "conv2d_2 (Conv2D)            (None, 56, 56, 64)        18496     \n",
      "_________________________________________________________________\n",
      "max_pooling2d_2 (MaxPooling2 (None, 28, 28, 64)        0         \n",
      "_________________________________________________________________\n",
      "conv2d_3 (Conv2D)            (None, 28, 28, 64)        36928     \n",
      "_________________________________________________________________\n",
      "max_pooling2d_3 (MaxPooling2 (None, 14, 14, 64)        0         \n",
      "_________________________________________________________________\n",
      "conv2d_4 (Conv2D)            (None, 14, 14, 128)       73856     \n",
      "_________________________________________________________________\n",
      "max_pooling2d_4 (MaxPooling2 (None, 7, 7, 128)         0         \n",
      "_________________________________________________________________\n",
      "flatten (Flatten)            (None, 6272)              0         \n",
      "_________________________________________________________________\n",
      "dense (Dense)                (None, 256)               1605888   \n",
      "_________________________________________________________________\n",
      "dropout (Dropout)            (None, 256)               0         \n",
      "_________________________________________________________________\n",
      "dense_1 (Dense)              (None, 256)               65792     \n",
      "_________________________________________________________________\n",
      "dropout_1 (Dropout)          (None, 256)               0         \n",
      "_________________________________________________________________\n",
      "dense_2 (Dense)              (None, 128)               32896     \n",
      "_________________________________________________________________\n",
      "dense_3 (Dense)              (None, 4)                 516       \n",
      "=================================================================\n",
      "Total params: 1,844,516\n",
      "Trainable params: 1,844,516\n",
      "Non-trainable params: 0\n",
      "_________________________________________________________________\n"
     ]
    }
   ],
   "source": [
    "model.summary()"
   ]
  },
  {
   "cell_type": "markdown",
   "metadata": {},
   "source": [
    "A CNN is a type of neural network that is trained on image data. CNNs are used to classify images into predefined classes. CNNs are very effective in image classification tasks. \n",
    "\n",
    "Creating a CNN involves the following steps:\n",
    "- Convolution\n",
    "- Pooling\n",
    "- Flattening\n",
    "- Full connection\n",
    "\n",
    "Convolution is the first step in a CNN. In this step, we create feature maps. A feature map is the result of a convolution operation between an input image and a filter. A filter is a small matrix that is used to extract features from an image. The filter is applied to the image by sliding it across the image. The filter is applied to every part of the image. The result of the convolution operation is called a feature map. The filter is applied to the image multiple times to create multiple feature maps. The number of feature maps created is equal to the number of filters used. The feature maps are stacked together to form a single tensor, which is called the output of the convolution operation. The output of the convolution operation is also called the activation map. The activation map is the result of applying the ReLU activation function to the convolution output.\n",
    "\n",
    "Pooling is the next step in a CNN. In this step, we reduce the spatial size of the feature maps created in the convolution step. Pooling is performed on each feature map separately. The most common type of pooling operation is max pooling. In max pooling, we slide a pooling filter (also called pooling window) across the feature map and select the maximum value within the window. The result of the max pooling operation is a pooled feature map. The pooling filter is applied to every part of the feature map to create the pooled feature map. The size of the pooling filter is usually 2x2. The most common type of pooling filter is a 2x2 filter. The stride of the pooling filter is usually equal to the size of the filter. The most common stride is 2. The result of the max pooling operation is a feature map that is 1/4th the size of the original feature map.\n",
    "\n",
    "Flattening is the third step in a CNN. In this step, we convert the pooled feature maps into a long vector that will be the input of the fully connected layers in the neural network. The flattened vector is a 1D vector that contains all the information about the image. The flattened vector is passed as input to the fully connected layers of the neural network.\n",
    "\n",
    "Full connection is the last step in a CNN. In this step, we add one or more fully connected layers to the neural network. The fully connected layers are used to classify the images. The output of the fully connected layers is the result of the CNN.\n",
    "\n",
    "The following diagram shows the architecture of a CNN:\n",
    "\n",
    "![cnn](https://miro.medium.com/max/1100/1*kkyW7BR5FZJq4_oBTx3OPQ.png)"
   ]
  },
  {
   "cell_type": "markdown",
   "metadata": {},
   "source": [
    "Since we are using the Keras library, we don't have to implement the CNN from scratch. We can use the `Sequential` class to initialize the neural network. We can add the different layers of the CNN one by one using the `add` method. We can add the convolutional layer using the `Conv2D` class. We can add the pooling layer using the `MaxPooling2D` class. We can add the flattening layer using the `Flatten` class. We can add the fully connected layer using the `Dense` class. We can add the output layer using the `Dense` class. We can compile the CNN using the `compile` method. We can train the CNN on the training set and evaluate it on the test set using the `fit` and `evaluate` methods.\n",
    "\n",
    "The `Conv2D` class creates a convolutional layer. The first parameter is the number of feature detectors (also called feature maps or feature channels). The second parameter is the shape of the feature detector. The third parameter is the input shape of the images. The fourth parameter is the activation function. We will use the `relu` activation function. The `relu` activation function is the most common activation function used in CNNs. The `relu` activation function is defined as:\n",
    "\n",
    "$$ f(x) = max(0, x) $$\n",
    "where $x$ is the input to the activation function.\n",
    "\n",
    "The `MaxPooling2D` class creates a pooling layer. The first parameter is the size of the pooling filter. The second parameter is the stride of the pooling filter. The most common size of the pooling filter is 2x2. The most common stride is 2.\n",
    "\n",
    "The `Flatten` class creates a flattening layer. This layer is used to convert the pooled feature maps into a long vector that will be the input of the fully connected layers.\n",
    "\n",
    "The `Dense` class creates a fully connected layer in the neural network. The first parameter is the number of nodes in the fully connected layer. The second parameter is the activation function. We will use the `relu` activation function. The `relu` activation function is the most common activation function used in CNNs. The `relu` activation function is defined as:\n",
    "\n",
    "$$ f(x) = max(0, x) $$\n",
    "where $x$ is the input to the activation function.\n",
    "\n",
    "The `Dense` class creates the output layer of the neural network. The first parameter is the number of nodes in the output layer. Since we have 4 classes, the number of nodes in the output layer is 4. The second parameter is the activation function. We will use the `softmax` activation function. The `softmax` activation function is used in the output layer of a neural network with more than 2 classes. The `softmax` activation function is defined as:\n",
    "\n",
    "$$ f(x_i) = \\frac{e^{x_i}}{\\sum_{j=1}^{n} e^{x_j}} $$\n",
    "where $x_i$ is the input to the activation function and $n$ is the number of nodes in the output layer.\n",
    "\n",
    "The `compile` method compiles the CNN. The first parameter is the optimizer. We will use the `adam` optimizer. The `adam` optimizer is an advanced version of the stochastic gradient descent algorithm. The `adam` optimizer is very efficient and effective. The `adam` optimizer is the most common optimizer used to train CNNs. The second parameter is the loss function. We will use the `categorical_crossentropy` loss function. The `categorical_crossentropy` loss function is the most common loss function used to train CNNs. The `categorical_crossentropy` loss function is defined as:\n",
    "\n",
    "$$ L = -\\sum_{i=1}^{n} y_i \\log(p_i) $$\n",
    "where $y_i$ is the target value and $p_i$ is the predicted value.\n",
    "\n",
    "The `fit` method trains the CNN on the training set. The first parameter is the training set. The second parameter is the target values of the training set. The third parameter is the number of epochs. We will train the CNN for 25 epochs. The fourth parameter is the batch size. We will use a batch size of 32. The `evaluate` method evaluates the performance of the CNN on the test set. The first parameter is the test set. The second parameter is the target values of the test set.\n",
    "\n",
    "Now, since we are training the model with 100 epochs, it will take a lot of time to train the model. This can be solved using Early Stopping. Early Stopping is a technique used to stop the training of the model when the performance of the model on the validation set starts to decrease. We can use the `EarlyStopping` class to implement Early Stopping. The `EarlyStopping` class has the following parameters:\n",
    "- `monitor`: The quantity to be monitored. We will monitor the `val_loss` quantity.\n",
    "- `patience`: The number of epochs with no improvement after which training will be stopped. We will use a patience of 5.\n",
    "- `restore_best_weights`: Whether to restore model weights from the epoch with the best value of the monitored quantity. We will use `True`."
   ]
  },
  {
   "cell_type": "code",
   "execution_count": 12,
   "metadata": {},
   "outputs": [
    {
     "name": "stdout",
     "output_type": "stream",
     "text": [
      "Epoch 1/100\n",
      "249/249 [==============================] - 29s 99ms/step - loss: 1.1925 - accuracy: 0.4090 - val_loss: 0.9422 - val_accuracy: 0.5284\n",
      "Epoch 2/100\n",
      "249/249 [==============================] - 24s 96ms/step - loss: 0.7941 - accuracy: 0.6133 - val_loss: 0.5036 - val_accuracy: 0.7270\n",
      "Epoch 3/100\n",
      "249/249 [==============================] - 23s 92ms/step - loss: 0.4634 - accuracy: 0.7609 - val_loss: 0.2709 - val_accuracy: 0.8743\n",
      "Epoch 4/100\n",
      "249/249 [==============================] - 30s 121ms/step - loss: 0.2841 - accuracy: 0.8795 - val_loss: 0.2268 - val_accuracy: 0.8854\n",
      "Epoch 5/100\n",
      "249/249 [==============================] - 31s 124ms/step - loss: 0.1923 - accuracy: 0.9158 - val_loss: 0.1985 - val_accuracy: 0.9231\n",
      "Epoch 6/100\n",
      "249/249 [==============================] - 29s 116ms/step - loss: 0.1652 - accuracy: 0.9317 - val_loss: 0.1343 - val_accuracy: 0.9367\n",
      "Epoch 7/100\n",
      "249/249 [==============================] - 27s 108ms/step - loss: 0.1128 - accuracy: 0.9578 - val_loss: 0.1031 - val_accuracy: 0.9563\n",
      "Epoch 8/100\n",
      "249/249 [==============================] - 30s 119ms/step - loss: 0.1324 - accuracy: 0.9514 - val_loss: 0.2750 - val_accuracy: 0.8914\n",
      "Epoch 9/100\n",
      "249/249 [==============================] - 42s 160ms/step - loss: 0.0936 - accuracy: 0.9659 - val_loss: 0.1128 - val_accuracy: 0.9542\n",
      "Epoch 10/100\n",
      "249/249 [==============================] - 28s 114ms/step - loss: 0.0475 - accuracy: 0.9839 - val_loss: 0.2204 - val_accuracy: 0.9336\n",
      "Epoch 11/100\n",
      "249/249 [==============================] - 33s 131ms/step - loss: 0.0549 - accuracy: 0.9813 - val_loss: 0.1278 - val_accuracy: 0.9583\n",
      "Epoch 12/100\n",
      "249/249 [==============================] - 25s 101ms/step - loss: 0.0410 - accuracy: 0.9846 - val_loss: 0.1080 - val_accuracy: 0.9678\n"
     ]
    }
   ],
   "source": [
    "history = model.fit(\n",
    "    train_images,\n",
    "    validation_data=val_images,\n",
    "    epochs=100,\n",
    "    callbacks=[\n",
    "        tf.keras.callbacks.EarlyStopping(\n",
    "            monitor='val_loss',\n",
    "            patience=   5,\n",
    "            restore_best_weights=True\n",
    "        )\n",
    "    ]\n",
    ")"
   ]
  },
  {
   "cell_type": "code",
   "execution_count": 13,
   "metadata": {},
   "outputs": [
    {
     "data": {
      "image/png": "[encoded data removed]",
      "text/plain": [
       "<Figure size 1500x400 with 2 Axes>"
      ]
     },
     "metadata": {},
     "output_type": "display_data"
    }
   ],
   "source": [
    "plot_learning(history)"
   ]
  },
  {
   "cell_type": "code",
   "execution_count": 14,
   "metadata": {},
   "outputs": [
    {
     "name": "stdout",
     "output_type": "stream",
     "text": [
      "Evaluate on test data\n",
      "3/3 [==============================] - 0s 135ms/step - loss: 0.4362 - accuracy: 0.8732\n",
      "test loss, test acc: [0.4361788332462311, 0.8732394576072693]\n",
      "\n",
      "Generate predictions\n",
      "predictions shape: (32, 4)\n",
      "actual shape :  (32, 4)\n"
     ]
    }
   ],
   "source": [
    "# Evaluate the model on the test data using `evaluate`\n",
    "print(\"Evaluate on test data\")\n",
    "results = model.evaluate(test_images, batch_size=128)\n",
    "print(\"test loss, test acc:\", results)\n",
    "\n",
    "# Generate predictions (probabilities -- the output of the last layer)\n",
    "# on new data using `predict`\n",
    "\n",
    "print()\n",
    "print(\"Generate predictions\")\n",
    "predictions = model.predict(test_images[0])\n",
    "print(\"predictions shape:\", predictions.shape)\n",
    "print(\"actual shape : \", test_images[0][1].shape)"
   ]
  }
 ],
 "metadata": {
  "kernelspec": {
   "display_name": "Python 3.9.13 ('tf_gpu')",
   "language": "python",
   "name": "python3"
  },
  "language_info": {
   "codemirror_mode": {
    "name": "ipython",
    "version": 3
   },
   "file_extension": ".py",
   "mimetype": "text/x-python",
   "name": "python",
   "nbconvert_exporter": "python",
   "pygments_lexer": "ipython3",
   "version": "3.9.13"
  },
  "orig_nbformat": 4,
  "vscode": {
   "interpreter": {
    "hash": "2dda02249f3a85fed6a16d4776c67b4645c16b9060126c998c6a5f674f8bbcb4"
   }
  }
 },
 "nbformat": 4,
 "nbformat_minor": 2
}
