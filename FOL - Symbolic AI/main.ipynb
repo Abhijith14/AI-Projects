{
 "cells": [
  {
   "cell_type": "markdown",
   "id": "4e52cf81",
   "metadata": {},
   "source": [
    "# Question 2 (First Order Logic)"
   ]
  },
  {
   "cell_type": "markdown",
   "id": "66307a56",
   "metadata": {},
   "source": [
    "## Who Resigns ?\n",
    "Aim : To create a `FolKB` based on the following paragraph.<br><br>\n",
    "<em>Boris Johnson is the prime minister of UK. Sanna Marin is the prime minister of Finland. Videos of parties at the Downing Street attended by Boris Johnson were publicly leaked. Videos of private\n",
    "parties attended by Sanna Miran were publicly leaked. The Downing Street parties violated Covid-19\n",
    "lockdown laws. Social gatherings violating Covid-19 lockdown laws are illegal. The prime minister of\n",
    "a country who attends illegal parties is disapproved by the citizens of that country. The prime\n",
    "minister of a country who is disapproved by its citizens loses their trust. The prime minister of a\n",
    "country resigns from the prime minister post after losing its citizens' trust.</em>\n",
    "<br><br>\n",
    "We'll store the clauses in list aptly named `clauses`."
   ]
  },
  {
   "cell_type": "code",
   "execution_count": null,
   "id": "03e673a9",
   "metadata": {},
   "outputs": [],
   "source": [
    "clauses = []"
   ]
  },
  {
   "cell_type": "markdown",
   "id": "4f30e2c3",
   "metadata": {},
   "source": [
    "<em>“Boris Johnson is the prime minister of UK.”</em>\n",
    "\n",
    "$\\text{Primeminister}(BorisJohnson, UK)$"
   ]
  },
  {
   "cell_type": "code",
   "execution_count": null,
   "id": "e649aa4a",
   "metadata": {},
   "outputs": [],
   "source": [
    "clauses.append(expr(\"Primeminister(BorisJohnson, UK)\"))"
   ]
  },
  {
   "cell_type": "markdown",
   "id": "f29a62c5",
   "metadata": {},
   "source": [
    "<em>“Sanna Marin is the prime minister of Finland.”</em>\n",
    "\n",
    "$\\text{Primeminister}(SannaMarin, Finland)$"
   ]
  },
  {
   "cell_type": "code",
   "execution_count": null,
   "id": "5e021b66",
   "metadata": {},
   "outputs": [],
   "source": [
    "clauses.append(expr(\"Primeminister(SannaMarin, Finland)\"))"
   ]
  },
  {
   "cell_type": "markdown",
   "id": "b541cf1d",
   "metadata": {},
   "source": [
    "<em>“Videos of parties at the Downing Street attended by Boris Johnson were publicly leaked.”</em>\n",
    "\n",
    "$\\text{Leaked}(DowningStreetParty, BorisJohnson)$"
   ]
  },
  {
   "cell_type": "code",
   "execution_count": null,
   "id": "913e4d26",
   "metadata": {},
   "outputs": [],
   "source": [
    "clauses.append(expr(\"Leaked(DowningStreetParty, BorisJohnson)\"))"
   ]
  },
  {
   "cell_type": "markdown",
   "id": "482122e1",
   "metadata": {},
   "source": [
    "<em>“Videos of private parties attended by Sanna Miran were publicly leaked. ”</em>\n",
    "\n",
    "$\\text{Leaked}(PrivateParty, SannaMarin)$"
   ]
  },
  {
   "cell_type": "code",
   "execution_count": null,
   "id": "55b6fa9e",
   "metadata": {},
   "outputs": [],
   "source": [
    "clauses.append(expr(\"Leaked(PrivateParty, SannaMarin)\"))"
   ]
  },
  {
   "cell_type": "markdown",
   "id": "d1ee2113",
   "metadata": {},
   "source": [
    "<em>“The Downing Street parties violated Covid-19 lockdown laws.”</em>\n",
    "\n",
    "$\\text{Violated}(DowningStreetParty, Covid19)$"
   ]
  },
  {
   "cell_type": "code",
   "execution_count": null,
   "id": "b0b64743",
   "metadata": {},
   "outputs": [],
   "source": [
    "clauses.append(expr(\"Violated(DowningStreetParty, Covid19)\"))"
   ]
  },
  {
   "cell_type": "markdown",
   "id": "f266a66e",
   "metadata": {},
   "source": [
    "<em>“Social gatherings violating Covid-19 lockdown laws are illegal. ”</em>\n",
    "\n",
    "$\\text{Violated}(x, Covid19) \\implies \\text{Illegal}(x)$"
   ]
  },
  {
   "cell_type": "code",
   "execution_count": null,
   "id": "7f2ce358",
   "metadata": {},
   "outputs": [],
   "source": [
    "clauses.append(expr(\"Violated(x, Covid19) ==> Illegal(x)\"))"
   ]
  },
  {
   "cell_type": "markdown",
   "id": "269263d8",
   "metadata": {},
   "source": [
    "<em>“The prime minister of a country who attends illegal parties is disapproved by the citizens of that country.”</em>\n",
    "\n",
    "$\\text{Primeminister}(x, y) \\land \\text{Leaked}(z, x) \\land \\text{Illegal}(z) \\implies \\text{Disapproved}(Citizens, y)$"
   ]
  },
  {
   "cell_type": "code",
   "execution_count": null,
   "id": "79a8b7d6",
   "metadata": {},
   "outputs": [],
   "source": [
    "clauses.append(expr(\"Primeminister(x, y) & Leaked(z, x) & Illegal(z) ==> Disapproved(Citizens, y)\"))"
   ]
  },
  {
   "cell_type": "markdown",
   "id": "e0db62ef",
   "metadata": {},
   "source": [
    "<em>“The prime minister of a country who is disapproved by its citizens loses their trust. ”</em>\n",
    "\n",
    "$\\text{Primeminister}(x, y) \\land \\text{Disapproved}(Citizens, y) \\implies \\text{Trust}(x, Lost)$"
   ]
  },
  {
   "cell_type": "code",
   "execution_count": null,
   "id": "a2e607b3",
   "metadata": {},
   "outputs": [],
   "source": [
    "clauses.append(expr(\"Primeminister(x, y) & Disapproved(Citizens, y) ==> Trust(x, Lost)\"))"
   ]
  },
  {
   "cell_type": "markdown",
   "id": "868ad629",
   "metadata": {},
   "source": [
    "<em>“The prime minister of a country resigns from the prime minister post after losing its citizens' trust.”</em>\n",
    "\n",
    "$\\text{Primeminister}(x, y) \\land \\text{Trust}(x, Lost) \\implies \\text{Resigns}(x, y)$"
   ]
  },
  {
   "cell_type": "code",
   "execution_count": null,
   "id": "1ea7686b",
   "metadata": {},
   "outputs": [],
   "source": [
    "clauses.append(expr(\"Primeminister(x, y) & Trust(x, Lost) ==> Resigns(x, y)\"))"
   ]
  },
  {
   "cell_type": "code",
   "execution_count": null,
   "id": "e969dcca",
   "metadata": {},
   "outputs": [
    {
     "data": {
      "text/plain": [
       "[Primeminister(BorisJohnson, UK),\n",
       " Primeminister(SannaMarin, Finland),\n",
       " Leaked(DowningStreetParty, BorisJohnson),\n",
       " Leaked(PrivateParty, SannaMarin),\n",
       " Violated(DowningStreetParty, Covid19),\n",
       " (Violated(x, Covid19) ==> Illegal(x)),\n",
       " (((Primeminister(x, y) & Leaked(z, x)) & Illegal(z)) ==> Disapproved(Citizens, y)),\n",
       " ((Primeminister(x, y) & Disapproved(Citizens, y)) ==> Trust(x, Lost)),\n",
       " ((Primeminister(x, y) & Trust(x, Lost)) ==> Resigns(x, y))]"
      ]
     },
     "metadata": {},
     "output_type": "display_data"
    }
   ],
   "source": [
    "clauses"
   ]
  },
  {
   "cell_type": "code",
   "execution_count": null,
   "id": "2d7833c4",
   "metadata": {},
   "outputs": [
    {
     "name": "stdout",
     "output_type": "stream",
     "text": [
      "[{x: BorisJohnson, y: UK}]\n"
     ]
    }
   ],
   "source": [
    "crime_kb = FolKB(clauses)\n",
    "\n",
    "answer = fol_fc_ask(crime_kb, expr('Resigns(x, y)'))\n",
    "print(list(answer))"
   ]
  }
 ],
 "metadata": {
  "language_info": {
   "name": "python"
  },
  "orig_nbformat": 4
 },
 "nbformat": 4,
 "nbformat_minor": 2
}
